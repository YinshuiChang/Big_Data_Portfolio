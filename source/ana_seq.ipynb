{
 "cells": [
  {
   "cell_type": "code",
   "execution_count": 1,
   "id": "0c641f18-1fdd-45af-9b7a-83aafb9cf29c",
   "metadata": {},
   "outputs": [],
   "source": [
    "from seq_utils import read_fasta"
   ]
  },
  {
   "cell_type": "code",
   "execution_count": 2,
   "id": "8d32ec6d-225d-411f-875c-0e7b4e18cf41",
   "metadata": {},
   "outputs": [],
   "source": [
    "filepath = '../../dataset/Homo_sapiens.GRCh38.cdna.all.fa'\n",
    "cdnas = read_fasta(filepath)"
   ]
  },
  {
   "cell_type": "code",
   "execution_count": 3,
   "id": "7b1af7be-f522-41f4-8a14-ee010b74d21c",
   "metadata": {},
   "outputs": [
    {
     "data": {
      "text/plain": [
       "[{'transcript_id': 'ENST00000415118.1',\n",
       "  'attributes': {'transcript_id': 'ENST00000415118.1',\n",
       "   'seqtype': 'cdna',\n",
       "   'chromosome': 'GRCh38:14:22438547:22438554:1 ',\n",
       "   'gene': 'ENSG00000223997.1 ',\n",
       "   'gene_biotype': 'TR_D_gene ',\n",
       "   'transcript_biotype': 'TR_D_gene ',\n",
       "   'gene_symbol': 'TRDD1 ',\n",
       "   'description': 'T cell receptor delta diversity 1 [Source:HGNC Symbol;Acc:HGNC:12254]'},\n",
       "  'sequence': 'GAAATAGT'},\n",
       " {'transcript_id': 'ENST00000448914.1',\n",
       "  'attributes': {'transcript_id': 'ENST00000448914.1',\n",
       "   'seqtype': 'cdna',\n",
       "   'chromosome': 'GRCh38:14:22449113:22449125:1 ',\n",
       "   'gene': 'ENSG00000228985.1 ',\n",
       "   'gene_biotype': 'TR_D_gene ',\n",
       "   'transcript_biotype': 'TR_D_gene ',\n",
       "   'gene_symbol': 'TRDD3 ',\n",
       "   'description': 'T cell receptor delta diversity 3 [Source:HGNC Symbol;Acc:HGNC:12256]'},\n",
       "  'sequence': 'ACTGGGGGATACG'}]"
      ]
     },
     "execution_count": 3,
     "metadata": {},
     "output_type": "execute_result"
    }
   ],
   "source": [
    "cdnas[:2]"
   ]
  },
  {
   "cell_type": "code",
   "execution_count": 77,
   "id": "b136ed4b-ae07-4568-ae53-c9073e035e31",
   "metadata": {},
   "outputs": [],
   "source": [
    "filepath = '../../dataset/Homo_sapiens.GRCh38.cds.all.fa'\n",
    "cdss = read_fasta(filepath)"
   ]
  },
  {
   "cell_type": "code",
   "execution_count": 86,
   "id": "fa9f95d1-9107-4dca-994d-b3e6c78c24c2",
   "metadata": {},
   "outputs": [
    {
     "data": {
      "text/plain": [
       "[{'transcript_id': 'ENST00000415118.1',\n",
       "  'attributes': {'transcript_id': 'ENST00000415118.1',\n",
       "   'seqtype': 'cds',\n",
       "   'chromosome': 'GRCh38:14:22438547:22438554:1 ',\n",
       "   'gene': 'ENSG00000223997.1 ',\n",
       "   'gene_biotype': 'TR_D_gene ',\n",
       "   'transcript_biotype': 'TR_D_gene ',\n",
       "   'gene_symbol': 'TRDD1 ',\n",
       "   'description': 'T cell receptor delta diversity 1 [Source:HGNC Symbol;Acc:HGNC:12254]'},\n",
       "  'sequence': 'GAAATAGT'},\n",
       " {'transcript_id': 'ENST00000448914.1',\n",
       "  'attributes': {'transcript_id': 'ENST00000448914.1',\n",
       "   'seqtype': 'cds',\n",
       "   'chromosome': 'GRCh38:14:22449113:22449125:1 ',\n",
       "   'gene': 'ENSG00000228985.1 ',\n",
       "   'gene_biotype': 'TR_D_gene ',\n",
       "   'transcript_biotype': 'TR_D_gene ',\n",
       "   'gene_symbol': 'TRDD3 ',\n",
       "   'description': 'T cell receptor delta diversity 3 [Source:HGNC Symbol;Acc:HGNC:12256]'},\n",
       "  'sequence': 'ACTGGGGGATACG'}]"
      ]
     },
     "execution_count": 86,
     "metadata": {},
     "output_type": "execute_result"
    }
   ],
   "source": [
    "cdss[:2]"
   ]
  },
  {
   "cell_type": "code",
   "execution_count": 4,
   "id": "605fb755-1241-4647-b407-bd7c2597e906",
   "metadata": {},
   "outputs": [],
   "source": [
    "from seq_utils import read_fastq_barcode\n",
    "seq_path = './data/500_PBMC_3p_LT_Chromium_X_S4_L004_R2_001.fastq_ds100000'\n",
    "bc_path = './data/500_PBMC_3p_LT_Chromium_X_S4_L004_R1_001.fastq_ds100000'\n",
    "sequences = read_fastq_barcode(seq_path, bc_path)"
   ]
  },
  {
   "cell_type": "code",
   "execution_count": 5,
   "id": "f3f1c814-2473-4a0d-b157-e9020e44b1b0",
   "metadata": {},
   "outputs": [
    {
     "data": {
      "text/plain": [
       "[{'barcode': 'GNGGGTAAGTGTTGAAGGATTTTTATGG',\n",
       "  'attributes': {'instrument': 'A00519',\n",
       "   'run_number': '986',\n",
       "   'flowcell_ID': 'HFFLJDSX2',\n",
       "   'lane': '4',\n",
       "   'tile': '1101',\n",
       "   'x_pos': '15510',\n",
       "   'y_pos': '1016',\n",
       "   'read': '2',\n",
       "   'is_filtered': 'N',\n",
       "   'control number': '0',\n",
       "   'i7_index': 'GAGACGCACG',\n",
       "   'i5_index': 'ATGTTCATAG'},\n",
       "  'sequence': 'AAGCAGTGGTATCAACGCAGAGTACATGGGGCTATGCTGGAGGTTTATATGAAATACAGATAAAGCACACAAAGATTGAGTCTATGACAA',\n",
       "  'quality': 'F:FFF:,,FFF,FFFFFF:,FF:FF:FF,FFF,F,F,F:FFFF:FFF:,,F:F:FFFFFFF:FFFFFFFFF,FF:,:FFFFFF,FF:FF:',\n",
       "  'bc_quality': 'F#F:FFF,:,FF,FF,FFFFFF,F::,:'},\n",
       " {'barcode': 'ANTGACTTCGTTCCTGTAAACTGATTCT',\n",
       "  'attributes': {'instrument': 'A00519',\n",
       "   'run_number': '986',\n",
       "   'flowcell_ID': 'HFFLJDSX2',\n",
       "   'lane': '4',\n",
       "   'tile': '1101',\n",
       "   'x_pos': '16089',\n",
       "   'y_pos': '1016',\n",
       "   'read': '2',\n",
       "   'is_filtered': 'N',\n",
       "   'control number': '0',\n",
       "   'i7_index': 'GAGACGCACG',\n",
       "   'i5_index': 'ATGTTCATAG'},\n",
       "  'sequence': 'GGGGGATAGAAAAGAAATAAGCAGGCCAGGCTCAGTGGCTCATGCCTGTAATCCTAGCATTTTGGGAGGCTGAGGCAGCAGAACTGCCTG',\n",
       "  'quality': 'FFFFFFFFFFFFFFFFFFFFFFFFFFFFFFFFFFFFFFFFFFFFFFFFFFFF:FFFFFFFFFFFFFFFFFFFFFFFFFFFFFFFFFFFFF',\n",
       "  'bc_quality': 'F#FFFFFFFFFFFFFFFFFFFFFFFF:F'},\n",
       " {'barcode': 'GNTAATCGTGCGGTAATAGAGCTTGGCG',\n",
       "  'attributes': {'instrument': 'A00519',\n",
       "   'run_number': '986',\n",
       "   'flowcell_ID': 'HFFLJDSX2',\n",
       "   'lane': '4',\n",
       "   'tile': '1101',\n",
       "   'x_pos': '18855',\n",
       "   'y_pos': '1016',\n",
       "   'read': '2',\n",
       "   'is_filtered': 'N',\n",
       "   'control number': '0',\n",
       "   'i7_index': 'GAGACGCACG',\n",
       "   'i5_index': 'ATGTTCATAG'},\n",
       "  'sequence': 'AAAAATCCCAAGAAACCACTGACCCTTTCCTTACACGGCTGGGCTGGCACAGGCAAGAATTTTGTCAGTCAAATTTTGGCTGAAAATCTT',\n",
       "  'quality': 'FFFFFFF:FFFFFFFFFFFFFFFF:FFFFFFFFFFFFFFFFF,:FFFFFF:F,FFF:FFFF:FF:FF,FFF:FFF,:FFFFF,F:FFF:F',\n",
       "  'bc_quality': 'F#FFFFFFFFFFFFFFF:FFFFFFFFFF'},\n",
       " {'barcode': 'GNGTTGTCAGACCTATGCGGATCAGTAT',\n",
       "  'attributes': {'instrument': 'A00519',\n",
       "   'run_number': '986',\n",
       "   'flowcell_ID': 'HFFLJDSX2',\n",
       "   'lane': '4',\n",
       "   'tile': '1101',\n",
       "   'x_pos': '20518',\n",
       "   'y_pos': '1016',\n",
       "   'read': '2',\n",
       "   'is_filtered': 'N',\n",
       "   'control number': '0',\n",
       "   'i7_index': 'GAGACGCACG',\n",
       "   'i5_index': 'ATGTTCATAG'},\n",
       "  'sequence': 'CAGTGGTATCAACGCAGAGTACATGGGAAAGAAAAGTAAAGATATTCAAAGGCAGTTTCTATCTCTGACAACTTTGTTCATTAAGAGTGC',\n",
       "  'quality': 'FFFFFFFFFFFFFFFFFFFFFFFFFFFFFFFFFFFFFFF:F,FFFFFFFFFFFFFFFFFFFFFFF:FFFFFFFFFFFFFFFFFFFFFFFF',\n",
       "  'bc_quality': 'F#FFFFFFFFFFFFFFFFFFFFFFFFFF'},\n",
       " {'barcode': 'TNACGCTGTGCCTTCTGATTCTATTCCT',\n",
       "  'attributes': {'instrument': 'A00519',\n",
       "   'run_number': '986',\n",
       "   'flowcell_ID': 'HFFLJDSX2',\n",
       "   'lane': '4',\n",
       "   'tile': '1101',\n",
       "   'x_pos': '20989',\n",
       "   'y_pos': '1016',\n",
       "   'read': '2',\n",
       "   'is_filtered': 'N',\n",
       "   'control number': '0',\n",
       "   'i7_index': 'GAGACGCACG',\n",
       "   'i5_index': 'ATGTTCATAG'},\n",
       "  'sequence': 'TCATAAAAAGGATATTCCTGGGCAGGGTGCGATGGCTCACACCTGTAATCCCAGCACTTTGGAAGGCTGAGGTAGGCAGATCACAAGGTC',\n",
       "  'quality': 'FFFFFFFF,FFFFFFFFFFFFFFF:FFF:FFFFFFFFFFFFFFFFFFFFFFFFFFFFFF:FFFFFFFFFFFFFF:FFF:FFFFF,:FFFF',\n",
       "  'bc_quality': 'F#FFFFFFFFFFFFFFFFFFFFFFFFFF'},\n",
       " {'barcode': 'TNTCGATAGTGCGTCCTAATAAACGGGT',\n",
       "  'attributes': {'instrument': 'A00519',\n",
       "   'run_number': '986',\n",
       "   'flowcell_ID': 'HFFLJDSX2',\n",
       "   'lane': '4',\n",
       "   'tile': '1101',\n",
       "   'x_pos': '27932',\n",
       "   'y_pos': '1016',\n",
       "   'read': '2',\n",
       "   'is_filtered': 'N',\n",
       "   'control number': '0',\n",
       "   'i7_index': 'GAGACGCACG',\n",
       "   'i5_index': 'ATGTTCATAG'},\n",
       "  'sequence': 'GCAGGACTTCCTCAGTGCCCAGCAGGTGCAGGCCCCTGTGAAGCTCTATTCTGACTGGCTGTCCGTGGGCCACGTGGACGAGTTCCTGAG',\n",
       "  'quality': 'FFFFFFFFFFFFFFFFFFFFFFFFFFFFFFFFFFFFFFFFFFFFFFFFFFFFF:FFFFFFFFFFFFFFFFFFFFFFFFFFFFFFFFFF:F',\n",
       "  'bc_quality': 'F#FFFFFFFFFFFFFFFFFFFFFFFFFF'},\n",
       " {'barcode': 'ANTAGTCTCAAAGGTAACCGCTCTTGTA',\n",
       "  'attributes': {'instrument': 'A00519',\n",
       "   'run_number': '986',\n",
       "   'flowcell_ID': 'HFFLJDSX2',\n",
       "   'lane': '4',\n",
       "   'tile': '1101',\n",
       "   'x_pos': '28076',\n",
       "   'y_pos': '1016',\n",
       "   'read': '2',\n",
       "   'is_filtered': 'N',\n",
       "   'control number': '0',\n",
       "   'i7_index': 'GAGACGCACG',\n",
       "   'i5_index': 'ATGTTCATAG'},\n",
       "  'sequence': 'CTGCTCATGATGGCTGGTATCGATGACTGCTACACCTCAGCCCGGGGCTGCACTGCCACCCTGGGCAACTTCGCCAAGGCCACCTTTGAT',\n",
       "  'quality': 'FFFFFFFFFFFFFFFFFFFFFFFFFFFFFFFFFFFFFFFFF:FFFFFFFFFFFFFFFFFFFFFFFFFFFFFFFFFFFFFFFFFF:FFF::',\n",
       "  'bc_quality': 'F#FFFFFFFFFFFFF:FFFFFFFFFFFF'},\n",
       " {'barcode': 'ANTATTCTTTTCAACCACCAGTGTCAGA',\n",
       "  'attributes': {'instrument': 'A00519',\n",
       "   'run_number': '986',\n",
       "   'flowcell_ID': 'HFFLJDSX2',\n",
       "   'lane': '4',\n",
       "   'tile': '1101',\n",
       "   'x_pos': '28727',\n",
       "   'y_pos': '1016',\n",
       "   'read': '2',\n",
       "   'is_filtered': 'N',\n",
       "   'control number': '0',\n",
       "   'i7_index': 'GAGACGCACG',\n",
       "   'i5_index': 'ATGTTCATAG'},\n",
       "  'sequence': 'GTTCTGGTGAGGGTTCACTTTCTGGCGTGCAGACAGCTTTCTCACTGTGCCCACACATGGCAGAGAGAGGGACAGGAGAAAGACAGAAAG',\n",
       "  'quality': 'FFFF,FFFFFFFFFFFFF,FFFFFFFFF:FFFFFFFF:FFF:FFFF:FFFFFFFFFF,FFFFFFFF:FFF,,F::F,FFF,FFF,,::::',\n",
       "  'bc_quality': 'F#FFF:FFFFFFFFFFFFFFFFFFFFFF'},\n",
       " {'barcode': 'ANGTCCTTCGCCACTTTTAAATCATAGC',\n",
       "  'attributes': {'instrument': 'A00519',\n",
       "   'run_number': '986',\n",
       "   'flowcell_ID': 'HFFLJDSX2',\n",
       "   'lane': '4',\n",
       "   'tile': '1101',\n",
       "   'x_pos': '30337',\n",
       "   'y_pos': '1016',\n",
       "   'read': '2',\n",
       "   'is_filtered': 'N',\n",
       "   'control number': '0',\n",
       "   'i7_index': 'GAGACGCACG',\n",
       "   'i5_index': 'ATGTTCATAG'},\n",
       "  'sequence': 'CATATTCTAAGATAGAAATTAATGAGGGCTTACTAGTTTGAAAGCACTTATTTTCCTGTCTTCACAAACAAAAGACTAAGAGGGTTTTTA',\n",
       "  'quality': 'FFFFFFFFFFFF:FFFFF:FFF:,FFFFFFF:FFFFFFFFFFFFFFFFFF:F:FFFF,:FFFFFFF,FFF,:F::F:F,FFFFF,F::F,',\n",
       "  'bc_quality': 'F#FFFFFFFFFFFFFFFFFFFFFFFFFF'},\n",
       " {'barcode': 'GNCAAGTAGTCATCCAAATTCCGCCTAG',\n",
       "  'attributes': {'instrument': 'A00519',\n",
       "   'run_number': '986',\n",
       "   'flowcell_ID': 'HFFLJDSX2',\n",
       "   'lane': '4',\n",
       "   'tile': '1101',\n",
       "   'x_pos': '30481',\n",
       "   'y_pos': '1016',\n",
       "   'read': '2',\n",
       "   'is_filtered': 'N',\n",
       "   'control number': '0',\n",
       "   'i7_index': 'GAGACGCACG',\n",
       "   'i5_index': 'ATGTTCATAG'},\n",
       "  'sequence': 'AAGCAGTGGTATCAACGCAGAGTACATGGGAAGCAGTGGTATCAACGCAGAGTACATGGGAAAAAAAAAAAAAAAAAAAAAAAAAAAAAA',\n",
       "  'quality': 'FFFFFFFFFFFFFFFFFFFFFFFFFFFFFFFFFFFFFFFFFFFFFFFFFFFFFFFFFFFFF:FFFFFFFFFFFFFFFFFFFFFFF:F:FF',\n",
       "  'bc_quality': 'F#FFFFFFFFFFFFF:FFFFFFFFFFFF'}]"
      ]
     },
     "execution_count": 5,
     "metadata": {},
     "output_type": "execute_result"
    }
   ],
   "source": [
    "sequences[:10]"
   ]
  },
  {
   "cell_type": "code",
   "execution_count": 16,
   "id": "919250bd-74f6-4255-9111-4269245838e9",
   "metadata": {},
   "outputs": [],
   "source": [
    "from seq_utils import smith_waterman, substitution_matrix, gap_penalty"
   ]
  },
  {
   "cell_type": "code",
   "execution_count": 6,
   "id": "a48a83d1-3895-46c4-a689-4491d98a960c",
   "metadata": {},
   "outputs": [],
   "source": [
    "temp = [i for i in cdnas if i['transcript_id'] == 'ENST00000488803.1'][0]"
   ]
  },
  {
   "cell_type": "markdown",
   "id": "ddc21f9a-ff70-4215-aaf7-b145d915db10",
   "metadata": {},
   "source": [
    " {'barcode': 'ANTAGTCTCAAAGGTAACCGCTCTTGTA',  \n",
    "  'attributes': {'instrument': 'A00519',  \n",
    "   'run_number': '986',  \n",
    "   'flowcell_ID': 'HFFLJDSX2',  \n",
    "   'lane': '4',  \n",
    "   'tile': '1101',  \n",
    "   'x_pos': '28076',  \n",
    "   'y_pos': '1016',  \n",
    "   'read': '2',  \n",
    "   'is_filtered': 'N',  \n",
    "   'control number': '0',  \n",
    "   'i7_index': 'GAGACGCACG',  \n",
    "   'i5_index': 'ATGTTCATAG'},  \n",
    "  'sequence': 'CTGCTCATGATGGCTGGTATCGATGACTGCTACACCTCAGCCCGGGGCTGCACTGCCACCCTGGGCAACTTCGCCAAGGCCACCTTTGAT',  \n",
    "  'quality': 'FFFFFFFFFFFFFFFFFFFFFFFFFFFFFFFFFFFFFFFFF:FFFFFFFFFFFFFFFFFFFFFFFFFFFFFFFFFFFFFFFFFF:FFF::',  \n",
    "  'bc_quality': 'F#FFFFFFFFFFFFF:FFFFFFFFFFFF'},"
   ]
  },
  {
   "cell_type": "code",
   "execution_count": 83,
   "id": "cb578ac0-15ce-4506-916b-321d1a9531b8",
   "metadata": {},
   "outputs": [
    {
     "data": {
      "text/plain": [
       "(180.0,\n",
       " 'CTGCTCATGATGGCTGGTATCGATGACTGCTACACCTCAGCCCGGGGCTGCACTGCCACCCTGGGCAACTTCGCCAAGGCCACCTTTGAT',\n",
       " 'CTGCTCATGATGGCTGGTATCGATGACTGCTACACCTCAGCCCGGGGCTGCACTGCCACCCTGGGCAACTTCGCCAAGGCCACCTTTGAT')"
      ]
     },
     "execution_count": 83,
     "metadata": {},
     "output_type": "execute_result"
    }
   ],
   "source": [
    "smith_waterman('CTGCTCATGATGGCTGGTATCGATGACTGCTACACCTCAGCCCGGGGCTGCACTGCCACCCTGGGCAACTTCGCCAAGGCCACCTTTGAT', \n",
    "               temp['sequence'], substitution_matrix, gap_penalty)\n"
   ]
  },
  {
   "cell_type": "code",
   "execution_count": 8,
   "id": "8b6e587c-397e-4ce0-8659-38644b8e4474",
   "metadata": {},
   "outputs": [],
   "source": [
    "temp = [i for i in cdnas if i['transcript_id'] == 'ENST00000467001.1'][0]"
   ]
  },
  {
   "cell_type": "markdown",
   "id": "27231c48-a17a-476d-b75f-f9685ac3883f",
   "metadata": {},
   "source": [
    " {'barcode': 'TNTCGATAGTGCGTCCTAATAAACGGGT',  \n",
    "  'attributes': {'instrument': 'A00519',  \n",
    "   'run_number': '986',  \n",
    "   'flowcell_ID': 'HFFLJDSX2',  \n",
    "   'lane': '4',  \n",
    "   'tile': '1101',  \n",
    "   'x_pos': '27932',  \n",
    "   'y_pos': '1016',  \n",
    "   'read': '2',  \n",
    "   'is_filtered': 'N',  \n",
    "   'control number': '0',  \n",
    "   'i7_index': 'GAGACGCACG',  \n",
    "   'i5_index': 'ATGTTCATAG'},  \n",
    "  'sequence': 'GCAGGACTTCCTCAGTGCCCAGCAGGTGCAGGCCCCTGTGAAGCTCTATTCTGACTGGCTGTCCGTGGGCCACGTGGACGAGTTCCTGAG',  \n",
    "  'quality': 'FFFFFFFFFFFFFFFFFFFFFFFFFFFFFFFFFFFFFFFFFFFFFFFFFFFFF:FFFFFFFFFFFFFFFFFFFFFFFFFFFFFFFFFF:F',  \n",
    "  'bc_quality': 'F#FFFFFFFFFFFFFFFFFFFFFFFFFF'},"
   ]
  },
  {
   "cell_type": "code",
   "execution_count": 85,
   "id": "b9a385d9-c295-4b73-9e7b-215df06f3f46",
   "metadata": {},
   "outputs": [
    {
     "data": {
      "text/plain": [
       "(180.0,\n",
       " 'GCAGGACTTCCTCAGTGCCCAGCAGGTGCAGGCCCCTGTGAAGCTCTATTCTGACTGGCTGTCCGTGGGCCACGTGGACGAGTTCCTGAG',\n",
       " 'GCAGGACTTCCTCAGTGCCCAGCAGGTGCAGGCCCCTGTGAAGCTCTATTCTGACTGGCTGTCCGTGGGCCACGTGGACGAGTTCCTGAG')"
      ]
     },
     "execution_count": 85,
     "metadata": {},
     "output_type": "execute_result"
    }
   ],
   "source": [
    "smith_waterman('GCAGGACTTCCTCAGTGCCCAGCAGGTGCAGGCCCCTGTGAAGCTCTATTCTGACTGGCTGTCCGTGGGCCACGTGGACGAGTTCCTGAG', \n",
    "               temp['sequence'], substitution_matrix, gap_penalty)"
   ]
  },
  {
   "cell_type": "code",
   "execution_count": 19,
   "id": "ea58fb74-df0e-408b-9a8d-2cd336019d1e",
   "metadata": {},
   "outputs": [],
   "source": [
    "temp = [i for i in cdnas if i['transcript_id'] == 'ENST00000495554.1'][0]"
   ]
  },
  {
   "cell_type": "markdown",
   "id": "0efabcd7-e191-4183-a7cb-1796104cc38c",
   "metadata": {},
   "source": [
    "{'barcode': 'GNGTTGTCAGACCTATGCGGATCAGTAT',  \n",
    "  'attributes': {'instrument': 'A00519',  \n",
    "   'run_number': '986',  \n",
    "   'flowcell_ID': 'HFFLJDSX2',  \n",
    "   'lane': '4',  \n",
    "   'tile': '1101',  \n",
    "   'x_pos': '20518',  \n",
    "   'y_pos': '1016',  \n",
    "   'read': '2',  \n",
    "   'is_filtered': 'N',  \n",
    "   'control number': '0',  \n",
    "   'i7_index': 'GAGACGCACG',  \n",
    "   'i5_index': 'ATGTTCATAG'},  \n",
    "  'sequence': 'CAGTGGTATCAACGCAGAGTACATGGGAAAGAAAAGTAAAGATATTCAAAGGCAGTTTCTATCTCTGACAACTTTGTTCATTAAGAGTGC',  \n",
    "  'quality': 'FFFFFFFFFFFFFFFFFFFFFFFFFFFFFFFFFFFFFFF:F,FFFFFFFFFFFFFFFFFFFFFFF:FFFFFFFFFFFFFFFFFFFFFFFF',  \n",
    "  'bc_quality': 'F#FFFFFFFFFFFFFFFFFFFFFFFFFF'},"
   ]
  },
  {
   "cell_type": "code",
   "execution_count": 20,
   "id": "8e051a43-e56f-40a1-9183-1bec3cb183f7",
   "metadata": {},
   "outputs": [
    {
     "data": {
      "text/plain": [
       "(137.0,\n",
       " 'TGGTATCA-ACGCAGAG-TACATGG-GA--AAGAAAAGTAAAGATATTCAAAGGCAGTTTCTATCTCTGACAACTTTGTTCATTAAGAGTGC',\n",
       " 'TGGAGTCAGAAAAAGTGATGATTGGAGACTAAGAAAAGTAAAGATATTCAAAGGCAGTTTCTATCTCTGACAACTTTGTTCATTAAGAGTGC')"
      ]
     },
     "execution_count": 20,
     "metadata": {},
     "output_type": "execute_result"
    }
   ],
   "source": [
    "smith_waterman('CAGTGGTATCAACGCAGAGTACATGGGAAAGAAAAGTAAAGATATTCAAAGGCAGTTTCTATCTCTGACAACTTTGTTCATTAAGAGTGC', \n",
    "               temp['sequence'], substitution_matrix, gap_penalty)"
   ]
  },
  {
   "cell_type": "code",
   "execution_count": 21,
   "id": "7d9e7fa8-e85a-4e72-b659-807043e08638",
   "metadata": {},
   "outputs": [
    {
     "data": {
      "text/plain": [
       "{'transcript_id': 'ENST00000486372.1',\n",
       " 'attributes': {'transcript_id': 'ENST00000486372.1',\n",
       "  'seqtype': 'cdna',\n",
       "  'chromosome': 'GRCh38:9:129803157:129804480:1 ',\n",
       "  'gene': 'ENSG00000136816.16 ',\n",
       "  'gene_biotype': 'protein_coding ',\n",
       "  'transcript_biotype': 'protein_coding_CDS_not_defined ',\n",
       "  'gene_symbol': 'TOR1B ',\n",
       "  'description': 'torsin family 1 member B [Source:HGNC Symbol;Acc:HGNC:11995]'},\n",
       " 'sequence': 'GCCGCTTGGCCGCGGGGCGCCTGGCTCAGTGGCTTCTGCGGGCTTCGAGGAGCGGGATGTTGCGGGCTGGGTGGCTCCGGGGCGCGGCGGCGCTGGCGCTGCTGCTGGCGGCCCGAGTGGTGGCGGCGTTCGAGCCCATCACCGTGGGCCTAGCCATCGGGGCCGCGTCGGCCATCACCGGCTACCTGTCCTACAATGACATCTACTGCCGCTTCGCCGAGTGCTGCCGCGAGGAGCGGCCGCTCAACGCTTCGGCTCTCAAGCTGGATTTGGAGGAGAAGCTGTTTGGACAGCATCTAGCCACGGAAGTGATTTTCAAGGCGCTGACTGGCTTCAGGAACAACAAAAATCCCAAGAAACCACTGACCCTTTCCTTACACGGCTGGGCTGGCACAGGCAAGAATTTTGTCAGTCAAATTGTGGCTGAAAATCTTCACCCAAAAGGTCTGAAGAGTAACTTTGTCCACCTGTTTGTATCGACTCTGCACTTCCCTCATGAGCAGAAGATAAAACTGTACCAGGCAAGAGAACCCGCTATTATCTCGTCTGCAGGCCAGTCGGACTGGTCCGGGTGACCTGCTCACTAACTCTGGCCTCTGCTTCTCTTTCCTTTGTGTTGCTGTAGCCCCCGGCTCCACTGAGTTAAGGCACACTTAGTCCAGG'}"
      ]
     },
     "execution_count": 21,
     "metadata": {},
     "output_type": "execute_result"
    }
   ],
   "source": [
    "temp = [i for i in cdnas if i['transcript_id'] == 'ENST00000486372.1'][0]\n",
    "temp"
   ]
  },
  {
   "cell_type": "code",
   "execution_count": 22,
   "id": "a28bbb74-4133-4e35-987b-c9f234fed4fc",
   "metadata": {},
   "outputs": [
    {
     "data": {
      "text/plain": [
       "(177.0,\n",
       " 'AAAAATCCCAAGAAACCACTGACCCTTTCCTTACACGGCTGGGCTGGCACAGGCAAGAATTTTGTCAGTCAAATTTTGGCTGAAAATCTT',\n",
       " 'AAAAATCCCAAGAAACCACTGACCCTTTCCTTACACGGCTGGGCTGGCACAGGCAAGAATTTTGTCAGTCAAATTGTGGCTGAAAATCTT')"
      ]
     },
     "execution_count": 22,
     "metadata": {},
     "output_type": "execute_result"
    }
   ],
   "source": [
    "smith_waterman('AAAAATCCCAAGAAACCACTGACCCTTTCCTTACACGGCTGGGCTGGCACAGGCAAGAATTTTGTCAGTCAAATTTTGGCTGAAAATCTT', \n",
    "               temp['sequence'], substitution_matrix, gap_penalty)"
   ]
  },
  {
   "cell_type": "code",
   "execution_count": 9,
   "id": "cd98ddcd-14ae-49d4-8455-6314431abe3b",
   "metadata": {},
   "outputs": [
    {
     "name": "stdout",
     "output_type": "stream",
     "text": [
      "TATGCCGTATGCGTACT\n"
     ]
    }
   ],
   "source": [
    "def reverse_complement(dna_sequence):\n",
    "    \"\"\"\n",
    "    Returns the reverse complement of a given DNA sequence.\n",
    "    \n",
    "    Args:\n",
    "    dna_sequence: A string representing the DNA sequence.\n",
    "    \n",
    "    Returns:\n",
    "    A string representing the reverse complement of the DNA sequence.\n",
    "    \"\"\"\n",
    "    # Create a dictionary to map each nucleotide to its complement\n",
    "    complement = {'A': 'T', 'T': 'A', 'C': 'G', 'G': 'C', 'N': 'N'}\n",
    "    \n",
    "    # Generate the complement sequence\n",
    "    complement_sequence = ''.join(complement[base] for base in dna_sequence)\n",
    "    \n",
    "    # Reverse the complement sequence\n",
    "    reverse_complement_sequence = complement_sequence[::-1]\n",
    "    \n",
    "    return reverse_complement_sequence\n",
    "\n",
    "# Example usage:\n",
    "dna_sequence = \"AGTACGCATACGGCATA\"\n",
    "print(reverse_complement(dna_sequence))  # Output: TATGCCGTATGCGTACT\n"
   ]
  },
  {
   "cell_type": "code",
   "execution_count": null,
   "id": "fb781e5b-75df-4186-af03-bf074ccad880",
   "metadata": {},
   "outputs": [],
   "source": []
  }
 ],
 "metadata": {
  "kernelspec": {
   "display_name": "Python 3 (ipykernel)",
   "language": "python",
   "name": "python3"
  },
  "language_info": {
   "codemirror_mode": {
    "name": "ipython",
    "version": 3
   },
   "file_extension": ".py",
   "mimetype": "text/x-python",
   "name": "python",
   "nbconvert_exporter": "python",
   "pygments_lexer": "ipython3",
   "version": "3.12.2"
  }
 },
 "nbformat": 4,
 "nbformat_minor": 5
}
