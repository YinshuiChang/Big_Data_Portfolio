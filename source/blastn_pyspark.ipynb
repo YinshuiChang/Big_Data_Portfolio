{
 "cells": [
  {
   "cell_type": "code",
   "execution_count": 2,
   "id": "c4584514-6371-4564-93af-340b76c1a1f8",
   "metadata": {},
   "outputs": [],
   "source": [
    "# import os\n",
    "# import sys\n",
    "# os.environ['PYSPARK_PYTHON'] = sys.executable\n",
    "# os.environ['PYSPARK_DRIVER_PYTHON'] = sys.executable"
   ]
  },
  {
   "cell_type": "code",
   "execution_count": 9,
   "id": "3191f8f5-b5fa-45e2-865b-33170131483b",
   "metadata": {},
   "outputs": [],
   "source": [
    "from seq_utils import smith_waterman, substitution_matrix, gap_penalty\n",
    "from pyspark.sql import SparkSession\n",
    "\n",
    "from json import loads\n",
    "from time import time"
   ]
  },
  {
   "cell_type": "code",
   "execution_count": 6,
   "id": "cf552941-fc01-48c9-afb2-218f523a9c5d",
   "metadata": {},
   "outputs": [],
   "source": [
    "# Initialize Spark\n",
    "spark = SparkSession.builder.master(\"local[1]\").appName(\"SparkBlast.com\").getOrCreate()\n",
    "sc = spark.sparkContext"
   ]
  },
  {
   "cell_type": "code",
   "execution_count": 12,
   "id": "2ae1b4b7-3f75-47c9-9ebf-3aea97222afb",
   "metadata": {},
   "outputs": [],
   "source": [
    "def mergeValue(c,v):\n",
    "    \"\"\"\n",
    "    Merges the current best alignments with a new alignment.\n",
    "    \n",
    "    Args:\n",
    "        c (list): Current best alignments.\n",
    "        v (tuple): New alignment to consider.\n",
    "\n",
    "    Returns:\n",
    "        list: Updated list of best alignments.\n",
    "    \"\"\"\n",
    "    if not c:  # If no current best alignment, use the new value\n",
    "        return [v]\n",
    "    if c[0][1] > v[1]:  # If the current best score is higher, keep the current best\n",
    "        return c\n",
    "    elif c[0][1] == v[1]:  # If the scores are equal, append the new alignment\n",
    "        c.append(v)\n",
    "        return c\n",
    "    else:  # If the new score is higher, use the new value\n",
    "        return [v]\n",
    "\n",
    "def mergeCombiners(a,b):\n",
    "    \"\"\"\n",
    "    Merges two lists of alignments from different combiners/reducers.\n",
    "    \n",
    "    Args:\n",
    "        a (list): List of alignments from one combiner/reducer.\n",
    "        b (list): List of alignments from another combiner/reducer.\n",
    "\n",
    "    Returns:\n",
    "        list: Merged list of best alignments.\n",
    "    \"\"\"\n",
    "    if not (a and b):  # If one list is empty, return the other\n",
    "        return a + b\n",
    "    if a[0][1] > b[0][1]:  # If the best score in 'a' is higher, keep 'a'\n",
    "        return a\n",
    "    elif a[0][1] < b[0][1]:  # If the best score in 'b' is higher, keep 'b'\n",
    "        return b\n",
    "    else:  # If the best scores are equal, combine the lists\n",
    "        return a + b"
   ]
  },
  {
   "cell_type": "code",
   "execution_count": 4,
   "id": "c3d03677-81f1-4cc8-b43a-a1db07ead470",
   "metadata": {},
   "outputs": [
    {
     "name": "stderr",
     "output_type": "stream",
     "text": [
      "[Stage 0:>                                                          (0 + 1) / 1]\r"
     ]
    },
    {
     "name": "stdout",
     "output_type": "stream",
     "text": [
      "func took: 644.1614 sec\n",
      "[('ENST00000245304.5', 25.0, 'AGTACGCATA-C-GGCAT', 'AGTACGAATATCTGGCAT')]\n"
     ]
    },
    {
     "name": "stderr",
     "output_type": "stream",
     "text": [
      "                                                                                \r"
     ]
    }
   ],
   "source": [
    "query_sequence = \"AGTACGCATACGGCATA\"  # Replace this with user input\n",
    "\n",
    "\n",
    "ts = time() # Start timing the operation\n",
    "# Read sequences from HDFS, parse JSON lines, and apply Smith-Waterman algorithm\n",
    "sequences_rdd = sc.textFile(\"hdfs://localhost:9000/bigdata/cdnas_10000\").map(lambda x: loads(x))\n",
    "temp = sequences_rdd.map(lambda seq: (seq['transcript_id'], *smith_waterman(query_sequence, seq['sequence'], substitution_matrix, gap_penalty))) \\\n",
    "    .aggregate([], mergeValue, mergeCombiners)\n",
    "te = time() # End timing the operation\n",
    "print('func took: %2.4f sec' % (te-ts))\n",
    "print(temp)"
   ]
  },
  {
   "cell_type": "markdown",
   "id": "aa53b6ea-522a-41af-b5c0-3e21bb14573e",
   "metadata": {},
   "source": [
    "\n",
    "for cdnas_1000 with 'AGTACGCATACGGCATA'  \n",
    "func took: 28.2416 sec  \n",
    "[('ENST00000711115.1', 23.0, 'AGTACGCATACGG', 'AGTACGCATGCGG'), ('ENST00000711114.1', 23.0, 'AGTACGCATACGG', 'AGTACGCATGCGG'), ('ENST00000711113.1', 23.0, 'AGTACGCATACGG', 'AGTACGCATGCGG')]\n",
    "\n",
    "for cdnas_10000 with 'AGTACGCATACGGCATA'  \n",
    "func took: 644.1614 sec\n",
    "[('ENST00000245304.5', 25.0, 'AGTACGCATA-C-GGCAT', 'AGTACGAATATCTGGCAT')]"
   ]
  },
  {
   "cell_type": "code",
   "execution_count": 7,
   "id": "5acc4d6e-4dc2-43ef-9e8e-88c8e2541f72",
   "metadata": {},
   "outputs": [
    {
     "data": {
      "text/plain": [
       "[{'transcript_id': 'ENST00000415118.1',\n",
       "  'attributes': {'transcript_id': 'ENST00000415118.1',\n",
       "   'seqtype': 'cdna',\n",
       "   'chromosome': 'GRCh38:14:22438547:22438554:1 ',\n",
       "   'gene': 'ENSG00000223997.1 ',\n",
       "   'gene_biotype': 'TR_D_gene ',\n",
       "   'transcript_biotype': 'TR_D_gene ',\n",
       "   'gene_symbol': 'TRDD1 ',\n",
       "   'description': 'T cell receptor delta diversity 1 [Source:HGNC Symbol;Acc:HGNC:12254]'},\n",
       "  'sequence': 'GAAATAGT'},\n",
       " {'transcript_id': 'ENST00000448914.1',\n",
       "  'attributes': {'transcript_id': 'ENST00000448914.1',\n",
       "   'seqtype': 'cdna',\n",
       "   'chromosome': 'GRCh38:14:22449113:22449125:1 ',\n",
       "   'gene': 'ENSG00000228985.1 ',\n",
       "   'gene_biotype': 'TR_D_gene ',\n",
       "   'transcript_biotype': 'TR_D_gene ',\n",
       "   'gene_symbol': 'TRDD3 ',\n",
       "   'description': 'T cell receptor delta diversity 3 [Source:HGNC Symbol;Acc:HGNC:12256]'},\n",
       "  'sequence': 'ACTGGGGGATACG'}]"
      ]
     },
     "execution_count": 7,
     "metadata": {},
     "output_type": "execute_result"
    }
   ],
   "source": [
    "# data structure of the cdna fasta\n",
    "sequences_rdd.take(2)"
   ]
  },
  {
   "cell_type": "code",
   "execution_count": 10,
   "id": "1fd2d8be-12a3-4b04-9233-d63476e09a51",
   "metadata": {},
   "outputs": [
    {
     "data": {
      "text/plain": [
       "[('ENST00000415118.1', 6.0, 'AGT', 'AGT'),\n",
       " ('ENST00000448914.1', 11.0, 'GCATACG', 'GGATACG')]"
      ]
     },
     "execution_count": 10,
     "metadata": {},
     "output_type": "execute_result"
    }
   ],
   "source": [
    "# Apply the Smith-Waterman algorithm to each sequence in the RDD\n",
    "# Map each sequence to a tuple containing the transcript ID and alignment results\n",
    "result_rrd = sequences_rdd.map(lambda seq: (seq['transcript_id'], *smith_waterman(query_sequence, seq['sequence'], substitution_matrix, gap_penalty)))\n",
    "result_rrd.take(2)"
   ]
  },
  {
   "cell_type": "code",
   "execution_count": 13,
   "id": "41059c46-05c4-4840-a957-7c6e0ce93e58",
   "metadata": {},
   "outputs": [
    {
     "name": "stderr",
     "output_type": "stream",
     "text": [
      "                                                                                \r"
     ]
    },
    {
     "data": {
      "text/plain": [
       "[('ENST00000711115.1', 23.0, 'AGTACGCATACGG', 'AGTACGCATGCGG'),\n",
       " ('ENST00000711114.1', 23.0, 'AGTACGCATACGG', 'AGTACGCATGCGG'),\n",
       " ('ENST00000711113.1', 23.0, 'AGTACGCATACGG', 'AGTACGCATGCGG')]"
      ]
     },
     "execution_count": 13,
     "metadata": {},
     "output_type": "execute_result"
    }
   ],
   "source": [
    "# Aggregate the results to find the best alignments across all partitions\n",
    "result_rrd.aggregate([], mergeValue, mergeCombiners)"
   ]
  },
  {
   "cell_type": "code",
   "execution_count": 7,
   "id": "7b731096-28c1-446f-875a-a408c8167925",
   "metadata": {},
   "outputs": [
    {
     "name": "stdout",
     "output_type": "stream",
     "text": [
      "+--------------------+--------------------+-----------------+\n",
      "|          attributes|            sequence|    transcript_id|\n",
      "+--------------------+--------------------+-----------------+\n",
      "|{GRCh38:14:224385...|            GAAATAGT|ENST00000415118.1|\n",
      "|{GRCh38:14:224491...|       ACTGGGGGATACG|ENST00000448914.1|\n",
      "|{GRCh38:14:224390...|           CCTTCCTAC|ENST00000434970.2|\n",
      "|{NULL, T cell rec...|        GGGACAGGGGGC|ENST00000631435.1|\n",
      "|{GRCh38:7:1427862...|        GGGACAGGGGGC|ENST00000632684.1|\n",
      "|{GRCh38:7:1427957...|    GGGACTAGCGGGAGGG|ENST00000710614.1|\n",
      "|{GRCh38:15:200111...|   GGTATAACTGGAACAAC|ENST00000605284.1|\n",
      "|{GRCh38:15:200038...|GTGGATATAGTGTCTAC...|ENST00000604642.1|\n",
      "|{GRCh38:15:200084...|AGAATATTGTAATAGTA...|ENST00000603077.1|\n",
      "|{GRCh38:15:210104...|GTGGATATAGTGTCTAC...|ENST00000604446.1|\n",
      "+--------------------+--------------------+-----------------+\n",
      "only showing top 10 rows\n",
      "\n"
     ]
    }
   ],
   "source": [
    "# alternative method of reading from the hadoop cluster with spark.read.json\n",
    "seq_sdf = spark.read.json(\"hdfs://localhost:9000/bigdata/cdnas_100\")\n",
    "seq_sdf.show(10)"
   ]
  },
  {
   "cell_type": "code",
   "execution_count": 8,
   "id": "8263b47d-8974-425e-abab-d3fb3039b021",
   "metadata": {},
   "outputs": [
    {
     "data": {
      "text/plain": [
       "[Row(attributes=Row(chromosome='GRCh38:14:22438547:22438554:1 ', description='T cell receptor delta diversity 1 [Source:HGNC Symbol;Acc:HGNC:12254]', gene='ENSG00000223997.1 ', gene_biotype='TR_D_gene ', gene_symbol='TRDD1 ', scaffold=None, seqtype='cdna', transcript_biotype='TR_D_gene ', transcript_id='ENST00000415118.1'), sequence='GAAATAGT', transcript_id='ENST00000415118.1'),\n",
       " Row(attributes=Row(chromosome='GRCh38:14:22449113:22449125:1 ', description='T cell receptor delta diversity 3 [Source:HGNC Symbol;Acc:HGNC:12256]', gene='ENSG00000228985.1 ', gene_biotype='TR_D_gene ', gene_symbol='TRDD3 ', scaffold=None, seqtype='cdna', transcript_biotype='TR_D_gene ', transcript_id='ENST00000448914.1'), sequence='ACTGGGGGATACG', transcript_id='ENST00000448914.1')]"
      ]
     },
     "execution_count": 8,
     "metadata": {},
     "output_type": "execute_result"
    }
   ],
   "source": [
    "# rdd of the dataframe\n",
    "seq_sdf.rdd.take(2)"
   ]
  },
  {
   "cell_type": "code",
   "execution_count": null,
   "id": "44606a26-1450-495f-a69f-f22f61a06e73",
   "metadata": {},
   "outputs": [],
   "source": []
  }
 ],
 "metadata": {
  "kernelspec": {
   "display_name": "Python 3 (ipykernel)",
   "language": "python",
   "name": "python3"
  },
  "language_info": {
   "codemirror_mode": {
    "name": "ipython",
    "version": 3
   },
   "file_extension": ".py",
   "mimetype": "text/x-python",
   "name": "python",
   "nbconvert_exporter": "python",
   "pygments_lexer": "ipython3",
   "version": "3.10.12"
  }
 },
 "nbformat": 4,
 "nbformat_minor": 5
}
