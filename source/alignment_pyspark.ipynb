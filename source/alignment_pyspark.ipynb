{
 "cells": [
  {
   "cell_type": "code",
   "execution_count": 1,
   "id": "db05d3e0-a7df-4029-83a0-8ace83c1be05",
   "metadata": {},
   "outputs": [],
   "source": [
    "from pyspark.sql import SparkSession\n",
    "from json import loads\n",
    "\n",
    "from seq_utils import quality_adjusted_smith_waterman, substitution_matrix, gap_penalty\n",
    "from operator import add\n",
    "\n",
    "from time import time"
   ]
  },
  {
   "cell_type": "code",
   "execution_count": 2,
   "id": "77c43ba9-e5b2-4faf-acd7-a181dff434b0",
   "metadata": {},
   "outputs": [
    {
     "name": "stderr",
     "output_type": "stream",
     "text": [
      "Setting default log level to \"WARN\".\n",
      "To adjust logging level use sc.setLogLevel(newLevel). For SparkR, use setLogLevel(newLevel).\n"
     ]
    }
   ],
   "source": [
    "# Initialize Spark session and context\n",
    "spark = SparkSession.builder.master(\"local[1]\").appName(\"SparkBlast.com\").getOrCreate()\n",
    "sc = spark.sparkContext"
   ]
  },
  {
   "cell_type": "code",
   "execution_count": 3,
   "id": "fb6a0a0c-05cb-4488-9167-10915c574aa8",
   "metadata": {},
   "outputs": [],
   "source": [
    "# Function to create the initial combiner list\n",
    "def createCombiner(v):\n",
    "    return [v]\n",
    "\n",
    "# Function to merge a new value into the current combiner list\n",
    "def mergeValue(c, v):\n",
    "    if c[0][1] > v[1]:  # If the current best score is higher, keep the current best\n",
    "        return c\n",
    "    elif c[0][1] == v[1]:  # If the scores are equal, append the new alignment\n",
    "        c.append(v)\n",
    "        return c\n",
    "    else:  # If the new score is higher, use the new value\n",
    "        return [v]\n",
    "\n",
    "# Function to merge two combiner lists\n",
    "def mergeCombiners(a, b):\n",
    "    if a[0][1] > b[0][1]:  # If the best score in 'a' is higher, keep 'a'\n",
    "        return a\n",
    "    elif a[0][1] < b[0][1]:  # If the best score in 'b' is higher, use 'b'\n",
    "        return b\n",
    "    else:  # If the scores are equal, extend 'a' with 'b'\n",
    "        return a.extend(b)"
   ]
  },
  {
   "cell_type": "markdown",
   "id": "eda1459e-ae07-4aeb-b8e7-bbd25a0939c6",
   "metadata": {},
   "source": [
    "For 10f x 10q func took: 1.4822 sec"
   ]
  },
  {
   "cell_type": "markdown",
   "id": "e595ad1c-43a5-430b-af4c-78bef953d425",
   "metadata": {},
   "source": [
    "For 100f x 100q func took: 281.5245 sec, 242.1444 sec  \n",
    "[('ENST00000390360.3', 4), ('ENST00000634605.1', 1), ('ENST00000634176.1', 2), ('ENST00000390392.3', 11), ('ENST00000390424.2', 4), ('ENST00000390387.3', 11), ('ENST00000390425.2', 5), ('ENST00000390357.3', 9), ('ENST00000390427.3', 6), ('ENST00000634383.1', 6), ('ENST00000634111.1', 6), ('ENST00000390363.2', 2), ('ENST00000390426.2', 2), ('ENST00000390423.2', 3), ('ENST00000542354.1', 1), ('ENST00000390361.3', 2), ('ENST00000390469.2', 2), ('ENST00000455382.2', 3), ('ENST00000631824.1', 4), ('ENST00000390362.1', 1), ('ENST00000632187.1', 3), ('ENST00000535880.2', 1), ('ENST00000390381.3', 3), ('ENST00000632248.1', 3), ('ENST00000633265.1', 1), ('ENST00000390353.2', 1), ('ENST00000547918.2', 1), ('ENST00000632308.1', 1), ('ENST00000633313.1', 1)]"
   ]
  },
  {
   "cell_type": "code",
   "execution_count": 4,
   "id": "1f0ddd10-78c8-425c-89eb-637db8184a8e",
   "metadata": {},
   "outputs": [
    {
     "name": "stderr",
     "output_type": "stream",
     "text": [
      "[Stage 0:>                                                          (0 + 1) / 1]\r"
     ]
    },
    {
     "name": "stdout",
     "output_type": "stream",
     "text": [
      "func took: 242.1444 sec\n",
      "[('ENST00000390360.3', 4), ('ENST00000634605.1', 1), ('ENST00000634176.1', 2), ('ENST00000390392.3', 11), ('ENST00000390424.2', 4), ('ENST00000390387.3', 11), ('ENST00000390425.2', 5), ('ENST00000390357.3', 9), ('ENST00000390427.3', 6), ('ENST00000634383.1', 6), ('ENST00000634111.1', 6), ('ENST00000390363.2', 2), ('ENST00000390426.2', 2), ('ENST00000390423.2', 3), ('ENST00000542354.1', 1), ('ENST00000390361.3', 2), ('ENST00000390469.2', 2), ('ENST00000455382.2', 3), ('ENST00000631824.1', 4), ('ENST00000390362.1', 1), ('ENST00000632187.1', 3), ('ENST00000535880.2', 1), ('ENST00000390381.3', 3), ('ENST00000632248.1', 3), ('ENST00000633265.1', 1), ('ENST00000390353.2', 1), ('ENST00000547918.2', 1), ('ENST00000632308.1', 1), ('ENST00000633313.1', 1)]\n"
     ]
    },
    {
     "name": "stderr",
     "output_type": "stream",
     "text": [
      "                                                                                \r"
     ]
    }
   ],
   "source": [
    "# Start timer to measure the execution time\n",
    "ts = time()\n",
    "# Read cDNA sequences and scRNA sequencing sequences from HDFS and parse each line as JSON, creating an RDD\n",
    "cdnas_rdd = sc.textFile(\"hdfs://localhost:9000/bigdata/cdnas_100\").map(lambda x: loads(x))\n",
    "sequences_rdd = sc.textFile(\"hdfs://localhost:9000/bigdata/sequences_100\").map(lambda x: loads(x))\n",
    "\n",
    "# Perform Cartesian product to get all possible pairs of cDNAs and sequences\n",
    "temp = cdnas_rdd.cartesian(sequences_rdd) \\\n",
    "    .map(lambda seq: (seq[1]['barcode'], (seq[0]['transcript_id'], *quality_adjusted_smith_waterman(seq[1]['sequence'], seq[1]['quality'], seq[0]['sequence'], substitution_matrix, gap_penalty)))) \\\n",
    "    .combineByKey(createCombiner, mergeValue, mergeCombiners) \\\n",
    "    .flatMap(lambda x: [(y[0],1) for y in x[1]]) \\\n",
    "    .reduceByKey(add) \\\n",
    "    .collect()\n",
    "\n",
    "# End timer to measure the execution time\n",
    "te = time()\n",
    "# Print the time taken for execution\n",
    "print('func took: %2.4f sec' % (te-ts))\n",
    "# Print the results\n",
    "print(temp)"
   ]
  },
  {
   "cell_type": "code",
   "execution_count": null,
   "id": "bb24c425-8301-407b-a78d-0198ef902ddd",
   "metadata": {},
   "outputs": [],
   "source": [
    "cdnas_rdd = sc.textFile(\"hdfs://localhost:9000/bigdata/cdnas_100\").map(lambda x: loads(x))\n",
    "sequences_rdd = sc.textFile(\"hdfs://localhost:9000/bigdata/sequences_100\").map(lambda x: loads(x))\n",
    "cdnas_rdd.take(2)\n",
    "sequences_rdd.take(2)\n",
    "alignment_rdd = cdnas_rdd.cartesian(sequences_rdd) \\\n",
    "    .map(lambda seq: (seq[1]['barcode'], (seq[0]['transcript_id'], *quality_adjusted_smith_waterman(seq[1]['sequence'], seq[1]['quality'], seq[0]['sequence'], substitution_matrix, gap_penalty))))\n",
    "alignment_rdd.take(2)\n",
    "results_rdd = results_rdd.combineByKey(createCombiner, mergeValue, mergeCombiners)\n",
    "results_rdd.take(2)\n",
    "test_rdd.flatMap(lambda x: [(y[0],1) for y in x[1]]).reduceByKey(add).collect()"
   ]
  },
  {
   "cell_type": "code",
   "execution_count": 5,
   "id": "501d2fdd-5c89-4ed9-9ad2-58b78a188bd1",
   "metadata": {},
   "outputs": [
    {
     "data": {
      "text/plain": [
       "[{'transcript_id': 'ENST00000415118.1',\n",
       "  'attributes': {'transcript_id': 'ENST00000415118.1',\n",
       "   'seqtype': 'cdna',\n",
       "   'chromosome': 'GRCh38:14:22438547:22438554:1 ',\n",
       "   'gene': 'ENSG00000223997.1 ',\n",
       "   'gene_biotype': 'TR_D_gene ',\n",
       "   'transcript_biotype': 'TR_D_gene ',\n",
       "   'gene_symbol': 'TRDD1 ',\n",
       "   'description': 'T cell receptor delta diversity 1 [Source:HGNC Symbol;Acc:HGNC:12254]'},\n",
       "  'sequence': 'GAAATAGT'},\n",
       " {'transcript_id': 'ENST00000448914.1',\n",
       "  'attributes': {'transcript_id': 'ENST00000448914.1',\n",
       "   'seqtype': 'cdna',\n",
       "   'chromosome': 'GRCh38:14:22449113:22449125:1 ',\n",
       "   'gene': 'ENSG00000228985.1 ',\n",
       "   'gene_biotype': 'TR_D_gene ',\n",
       "   'transcript_biotype': 'TR_D_gene ',\n",
       "   'gene_symbol': 'TRDD3 ',\n",
       "   'description': 'T cell receptor delta diversity 3 [Source:HGNC Symbol;Acc:HGNC:12256]'},\n",
       "  'sequence': 'ACTGGGGGATACG'}]"
      ]
     },
     "execution_count": 5,
     "metadata": {},
     "output_type": "execute_result"
    }
   ],
   "source": [
    "# Display the first 2 records from the cDNAs RDD\n",
    "cdnas_rdd.take(2)"
   ]
  },
  {
   "cell_type": "code",
   "execution_count": 6,
   "id": "c3b95eb9-1f8c-4491-92c5-dfec71195d1d",
   "metadata": {},
   "outputs": [
    {
     "data": {
      "text/plain": [
       "[{'barcode': 'GNGGGTAAGTGTTGAAGGATTTTTATGG',\n",
       "  'attributes': {'instrument': 'A00519',\n",
       "   'run_number': '986',\n",
       "   'flowcell_ID': 'HFFLJDSX2',\n",
       "   'lane': '4',\n",
       "   'tile': '1101',\n",
       "   'x_pos': '15510',\n",
       "   'y_pos': '1016',\n",
       "   'read': '2',\n",
       "   'is_filtered': 'N',\n",
       "   'control number': '0',\n",
       "   'i7_index': 'GAGACGCACG',\n",
       "   'i5_index': 'ATGTTCATAG'},\n",
       "  'sequence': 'AAGCAGTGGTATCAACGCAGAGTACATGGGGCTATGCTGGAGGTTTATATGAAATACAGATAAAGCACACAAAGATTGAGTCTATGACAA',\n",
       "  'quality': 'F:FFF:,,FFF,FFFFFF:,FF:FF:FF,FFF,F,F,F:FFFF:FFF:,,F:F:FFFFFFF:FFFFFFFFF,FF:,:FFFFFF,FF:FF:',\n",
       "  'bc_quality': 'F#F:FFF,:,FF,FF,FFFFFF,F::,:'},\n",
       " {'barcode': 'ANTGACTTCGTTCCTGTAAACTGATTCT',\n",
       "  'attributes': {'instrument': 'A00519',\n",
       "   'run_number': '986',\n",
       "   'flowcell_ID': 'HFFLJDSX2',\n",
       "   'lane': '4',\n",
       "   'tile': '1101',\n",
       "   'x_pos': '16089',\n",
       "   'y_pos': '1016',\n",
       "   'read': '2',\n",
       "   'is_filtered': 'N',\n",
       "   'control number': '0',\n",
       "   'i7_index': 'GAGACGCACG',\n",
       "   'i5_index': 'ATGTTCATAG'},\n",
       "  'sequence': 'GGGGGATAGAAAAGAAATAAGCAGGCCAGGCTCAGTGGCTCATGCCTGTAATCCTAGCATTTTGGGAGGCTGAGGCAGCAGAACTGCCTG',\n",
       "  'quality': 'FFFFFFFFFFFFFFFFFFFFFFFFFFFFFFFFFFFFFFFFFFFFFFFFFFFF:FFFFFFFFFFFFFFFFFFFFFFFFFFFFFFFFFFFFF',\n",
       "  'bc_quality': 'F#FFFFFFFFFFFFFFFFFFFFFFFF:F'}]"
      ]
     },
     "execution_count": 6,
     "metadata": {},
     "output_type": "execute_result"
    }
   ],
   "source": [
    "# Display the first 2 records from the scRNA-sequencing sequences RDD\n",
    "sequences_rdd.take(2)"
   ]
  },
  {
   "cell_type": "code",
   "execution_count": 8,
   "id": "f23cfd42-7971-4a00-ad25-2627f0e5063a",
   "metadata": {},
   "outputs": [
    {
     "data": {
      "text/plain": [
       "[('GNGGGTAAGTGTTGAAGGATTTTTATGG',\n",
       "  ('ENST00000415118.1', 9.9, 'GAAATA', 'GAAATA')),\n",
       " ('ANTGACTTCGTTCCTGTAAACTGATTCT',\n",
       "  ('ENST00000415118.1', 11.1, 'GAAATA', 'GAAATA'))]"
      ]
     },
     "execution_count": 8,
     "metadata": {},
     "output_type": "execute_result"
    }
   ],
   "source": [
    "# Perform Cartesian product to get all possible pairs of cDNAs and sequences\n",
    "# And apply the quality-adjusted Smith-Waterman algorithm to each pair, yielding the barcode and alignment result.\n",
    "alignment_rdd = cdnas_rdd.cartesian(sequences_rdd) \\\n",
    "    .map(lambda seq: (seq[1]['barcode'], (seq[0]['transcript_id'], *quality_adjusted_smith_waterman(seq[1]['sequence'], seq[1]['quality'], seq[0]['sequence'], substitution_matrix, gap_penalty))))\n",
    "alignment_rdd.take(2) "
   ]
  },
  {
   "cell_type": "code",
   "execution_count": 10,
   "id": "b542d595-e2bd-4154-9312-b050d391d730",
   "metadata": {},
   "outputs": [
    {
     "name": "stderr",
     "output_type": "stream",
     "text": [
      "                                                                                \r"
     ]
    },
    {
     "data": {
      "text/plain": [
       "[('GNGGGTAAGTGTTGAAGGATTTTTATGG',\n",
       "  [('ENST00000390360.3',\n",
       "    51.275000000000055,\n",
       "    'AAGCAGTGGTAT-CA-ACG-CAGAGTACATGGGGCT-ATGCTGGAGGTTTATATGAAATACAG-ATAAAGCAC--ACAAAGATTGAGTCTATGA',\n",
       "    'ATGTACTGGTATAGACAAGATCTAGGAC-TGGGGCTAAGGCTCATCCATTAT-TCAAATACTGCAGGTACCACTGGCAAAGGAGAAGTCCCTGA')]),\n",
       " ('ANTGACTTCGTTCCTGTAAACTGATTCT',\n",
       "  [('ENST00000634605.1',\n",
       "    59.5500000000001,\n",
       "    'GGGGATAGAAAAGAAATAAGCAGGCCAG-GCTCA-GTG-GCT-C-A-TGCCTGTAATCCTAGCATTT--TGGGA--GGCTGAGGCAGCAGAACTGCCTG',\n",
       "    'GGTCACAGAGAAGGGA-AAGGATG-TAGAGCTCAGGTGTGATCCAATTTCAGGTCATACTGCCCTTTACTGGTACCGACAGAGCCTGGGGCAGGGCCTG')])]"
      ]
     },
     "execution_count": 10,
     "metadata": {},
     "output_type": "execute_result"
    }
   ],
   "source": [
    "# Use combineByKey to aggregate alignments by barcode\n",
    "results_rdd = results_rdd.combineByKey(createCombiner, mergeValue, mergeCombiners)\n",
    "results_rdd.take(2)"
   ]
  },
  {
   "cell_type": "code",
   "execution_count": 11,
   "id": "e074660b-f1ad-44da-ba74-58fbffc6feac",
   "metadata": {},
   "outputs": [
    {
     "data": {
      "text/plain": [
       "[('ENST00000390360.3', 4),\n",
       " ('ENST00000634605.1', 1),\n",
       " ('ENST00000634176.1', 2),\n",
       " ('ENST00000390392.3', 11),\n",
       " ('ENST00000390424.2', 4),\n",
       " ('ENST00000390387.3', 11),\n",
       " ('ENST00000390425.2', 5),\n",
       " ('ENST00000390357.3', 9),\n",
       " ('ENST00000390427.3', 6),\n",
       " ('ENST00000634383.1', 6),\n",
       " ('ENST00000634111.1', 6),\n",
       " ('ENST00000390363.2', 2),\n",
       " ('ENST00000390426.2', 2),\n",
       " ('ENST00000390423.2', 3),\n",
       " ('ENST00000542354.1', 1),\n",
       " ('ENST00000390361.3', 2),\n",
       " ('ENST00000390469.2', 2),\n",
       " ('ENST00000455382.2', 3),\n",
       " ('ENST00000631824.1', 4),\n",
       " ('ENST00000390362.1', 1),\n",
       " ('ENST00000632187.1', 3),\n",
       " ('ENST00000535880.2', 1),\n",
       " ('ENST00000390381.3', 3),\n",
       " ('ENST00000632248.1', 3),\n",
       " ('ENST00000633265.1', 1),\n",
       " ('ENST00000390353.2', 1),\n",
       " ('ENST00000547918.2', 1),\n",
       " ('ENST00000632308.1', 1),\n",
       " ('ENST00000633313.1', 1)]"
      ]
     },
     "execution_count": 11,
     "metadata": {},
     "output_type": "execute_result"
    }
   ],
   "source": [
    "# Flatten the results and reduce by key to count occurrences\n",
    "test_rdd.flatMap(lambda x: [(y[0],1) for y in x[1]]).reduceByKey(add).collect()"
   ]
  },
  {
   "cell_type": "code",
   "execution_count": null,
   "id": "9054ac13-d09b-46a4-923b-e84769ff108a",
   "metadata": {},
   "outputs": [],
   "source": []
  }
 ],
 "metadata": {
  "kernelspec": {
   "display_name": "Python 3 (ipykernel)",
   "language": "python",
   "name": "python3"
  },
  "language_info": {
   "codemirror_mode": {
    "name": "ipython",
    "version": 3
   },
   "file_extension": ".py",
   "mimetype": "text/x-python",
   "name": "python",
   "nbconvert_exporter": "python",
   "pygments_lexer": "ipython3",
   "version": "3.10.12"
  }
 },
 "nbformat": 4,
 "nbformat_minor": 5
}
