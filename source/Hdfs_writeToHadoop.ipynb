{
 "cells": [
  {
   "cell_type": "markdown",
   "id": "8f4ec030-61de-40df-85b5-dc105e17f15e",
   "metadata": {},
   "source": [
    "# write cDNA fasta"
   ]
  },
  {
   "cell_type": "code",
   "execution_count": 1,
   "id": "739842da-2d2e-4318-8d34-be40ed083e44",
   "metadata": {},
   "outputs": [],
   "source": [
    "from seq_utils import parse_fasta_header, read_fasta\n"
   ]
  },
  {
   "cell_type": "code",
   "execution_count": 2,
   "id": "2fd22d6a-1a8f-4ad2-9655-1e01569b4e4c",
   "metadata": {},
   "outputs": [
    {
     "data": {
      "text/plain": [
       "{'transcript_id': 'ENST00000415118.1',\n",
       " 'seqtype': 'cdna',\n",
       " 'chromosome': 'GRCh38:14:22438547:22438554:1 ',\n",
       " 'gene': 'ENSG00000223997.1 ',\n",
       " 'gene_biotype': 'TR_D_gene ',\n",
       " 'transcript_biotype': 'TR_D_gene ',\n",
       " 'gene_symbol': 'TRDD1 ',\n",
       " 'description': 'T cell receptor delta diversity 1 [Source:HGNC Symbol;Acc:HGNC:12254]'}"
      ]
     },
     "execution_count": 2,
     "metadata": {},
     "output_type": "execute_result"
    }
   ],
   "source": [
    "test_1 = '>ENST00000415118.1 cdna chromosome:GRCh38:14:22438547:22438554:1 gene:ENSG00000223997.1 gene_biotype:TR_D_gene transcript_biotype:TR_D_gene gene_symbol:TRDD1 description:T cell receptor delta diversity 1 [Source:HGNC Symbol;Acc:HGNC:12254]'\n",
    "test_2 = '>ENST00000710614.1 cdna chromosome:GRCh38:7:142795705:142795720:1 gene:ENSG00000292271.1 gene_biotype:TR_D_gene transcript_biotype:TR_D_gene description:T cell receptor beta diversity 2'\n",
    "test_3 = '>ENST00000621564.1 cdna chromosome:GRCh38:1:120340756:120341839:-1 gene:ENSG00000223804.6 gene_biotype:transcribed_unprocessed_pseudogene transcript_biotype:transcribed_unprocessed_pseudogene description:Poly [ADP-ribose] polymerase 8 (PARP8) pseudogene'\n",
    "parse_fasta_header(test_1)"
   ]
  },
  {
   "cell_type": "code",
   "execution_count": 3,
   "id": "48f387f2-c962-43ba-8ff0-df68fb3a38a8",
   "metadata": {},
   "outputs": [],
   "source": [
    "filepath = './data/Homo_sapiens.GRCh38.cdna.all.fa'\n",
    "cdnas = read_fasta(filepath)"
   ]
  },
  {
   "cell_type": "code",
   "execution_count": 4,
   "id": "ca5c840e-e61b-42d5-9971-d7193c2cd029",
   "metadata": {},
   "outputs": [],
   "source": [
    "from hdfs import InsecureClient\n",
    "\n",
    "hdfs_url        = 'http://host.docker.internal:9870'\n",
    "ubuntu_Benutzer = 'alfa'\n",
    "\n",
    "client = InsecureClient(hdfs_url, user=ubuntu_Benutzer)"
   ]
  },
  {
   "cell_type": "code",
   "execution_count": 6,
   "id": "50d86c9c-2326-46ac-b4df-6fac58de3d7c",
   "metadata": {},
   "outputs": [
    {
     "data": {
      "text/plain": [
       "206723"
      ]
     },
     "execution_count": 6,
     "metadata": {},
     "output_type": "execute_result"
    }
   ],
   "source": [
    "len(cdnas)"
   ]
  },
  {
   "cell_type": "code",
   "execution_count": 7,
   "id": "3094d355-05c8-46c8-93ea-cd1abe62ad8a",
   "metadata": {},
   "outputs": [],
   "source": [
    "from json import dumps"
   ]
  },
  {
   "cell_type": "code",
   "execution_count": 8,
   "id": "f05c2476-951c-4102-8fe8-62e157380cdd",
   "metadata": {},
   "outputs": [
    {
     "data": {
      "text/plain": [
       "'{\"transcript_id\": \"ENST00000415118.1\", \"attributes\": {\"transcript_id\": \"ENST00000415118.1\", \"seqtype\": \"cdna\", \"chromosome\": \"GRCh38:14:22438547:22438554:1 \", \"gene\": \"ENSG00000223997.1 \", \"gene_biotype\": \"TR_D_gene \", \"transcript_biotype\": \"TR_D_gene \", \"gene_symbol\": \"TRDD1 \", \"description\": \"T cell receptor delta diversity 1 [Source:HGNC Symbol;Acc:HGNC:12254]\"}, \"sequence\": \"GAAATAGT\"}'"
      ]
     },
     "execution_count": 8,
     "metadata": {},
     "output_type": "execute_result"
    }
   ],
   "source": [
    "dumps(cdnas[0])"
   ]
  },
  {
   "cell_type": "code",
   "execution_count": 24,
   "id": "e8aaf734-4c2a-499f-8476-ec3a5a6fb789",
   "metadata": {},
   "outputs": [
    {
     "name": "stdout",
     "output_type": "stream",
     "text": [
      "Datei erfolgreich in HDFS kopiert.\n"
     ]
    }
   ],
   "source": [
    "temp = cdnas[:10]\n",
    "try:\n",
    "    with client.write('/bigdata/cdnas_10') as writer:\n",
    "        writer.write(dumps(temp[0]))\n",
    "        for line in temp[1:]:\n",
    "            writer.write('\\n' + dumps(line))\n",
    "    print(\"Datei erfolgreich in HDFS kopiert.\")\n",
    "except Exception as e:\n",
    "    print(\"Fehler beim Kopieren der Datei in HDFS: \", e)"
   ]
  },
  {
   "cell_type": "code",
   "execution_count": 13,
   "id": "a99c7072-d859-4e6b-b1bb-1cb7f012dca7",
   "metadata": {},
   "outputs": [
    {
     "name": "stdout",
     "output_type": "stream",
     "text": [
      "Datei erfolgreich in HDFS kopiert.\n"
     ]
    }
   ],
   "source": [
    "from json import loads\n",
    "content = []\n",
    "try:\n",
    "    with client.read('/bigdata/cdnas_100', encoding='utf-8' , delimiter='\\n') as reader:\n",
    "        for line in reader:\n",
    "            content.append(loads(line))\n",
    "    print(\"Datei erfolgreich in HDFS kopiert.\")\n",
    "except Exception as e:\n",
    "    print(\"Fehler beim Kopieren der Datei in HDFS: \", e)"
   ]
  },
  {
   "cell_type": "code",
   "execution_count": 14,
   "id": "dc8061f2-2e0f-40f0-9621-0e3ae95731a6",
   "metadata": {},
   "outputs": [
    {
     "data": {
      "text/plain": [
       "{'transcript_id': 'ENST00000415118.1',\n",
       " 'attributes': {'transcript_id': 'ENST00000415118.1',\n",
       "  'seqtype': 'cdna',\n",
       "  'chromosome': 'GRCh38:14:22438547:22438554:1 ',\n",
       "  'gene': 'ENSG00000223997.1 ',\n",
       "  'gene_biotype': 'TR_D_gene ',\n",
       "  'transcript_biotype': 'TR_D_gene ',\n",
       "  'gene_symbol': 'TRDD1 ',\n",
       "  'description': 'T cell receptor delta diversity 1 [Source:HGNC Symbol;Acc:HGNC:12254]'},\n",
       " 'sequence': 'GAAATAGT'}"
      ]
     },
     "execution_count": 14,
     "metadata": {},
     "output_type": "execute_result"
    }
   ],
   "source": [
    "content[0]"
   ]
  },
  {
   "cell_type": "markdown",
   "id": "46da7126-f959-4b80-bc2b-5886faf4e463",
   "metadata": {},
   "source": [
    "# write Sequencing fastq"
   ]
  },
  {
   "cell_type": "code",
   "execution_count": 15,
   "id": "8964b83c-95e1-417c-80f7-aac1f2589594",
   "metadata": {},
   "outputs": [],
   "source": [
    "from seq_utils import read_fastq_barcode\n",
    "seq_path = './data/500_PBMC_3p_LT_Chromium_X_S4_L004_R2_001.fastq_ds100000'\n",
    "bc_path = './data/500_PBMC_3p_LT_Chromium_X_S4_L004_R1_001.fastq_ds100000'\n",
    "sequences = read_fastq_barcode(seq_path, bc_path)"
   ]
  },
  {
   "cell_type": "code",
   "execution_count": 16,
   "id": "7e9eb423-bc39-41ff-ad20-c94881d23835",
   "metadata": {},
   "outputs": [
    {
     "data": {
      "text/plain": [
       "'{\"barcode\": \"GNGGGTAAGTGTTGAAGGATTTTTATGG\", \"attributes\": {\"instrument\": \"A00519\", \"run_number\": \"986\", \"flowcell_ID\": \"HFFLJDSX2\", \"lane\": \"4\", \"tile\": \"1101\", \"x_pos\": \"15510\", \"y_pos\": \"1016\", \"read\": \"2\", \"is_filtered\": \"N\", \"control number\": \"0\", \"i7_index\": \"GAGACGCACG\", \"i5_index\": \"ATGTTCATAG\"}, \"sequence\": \"AAGCAGTGGTATCAACGCAGAGTACATGGGGCTATGCTGGAGGTTTATATGAAATACAGATAAAGCACACAAAGATTGAGTCTATGACAA\", \"quality\": \"F:FFF:,,FFF,FFFFFF:,FF:FF:FF,FFF,F,F,F:FFFF:FFF:,,F:F:FFFFFFF:FFFFFFFFF,FF:,:FFFFFF,FF:FF:\", \"bc_quality\": \"F#F:FFF,:,FF,FF,FFFFFF,F::,:\"}'"
      ]
     },
     "execution_count": 16,
     "metadata": {},
     "output_type": "execute_result"
    }
   ],
   "source": [
    "dumps(sequences[0])"
   ]
  },
  {
   "cell_type": "code",
   "execution_count": 23,
   "id": "c4cb57fb-4b72-4bea-acfb-7c6ab6010527",
   "metadata": {},
   "outputs": [
    {
     "name": "stdout",
     "output_type": "stream",
     "text": [
      "Datei erfolgreich in HDFS kopiert.\n"
     ]
    }
   ],
   "source": [
    "temp = sequences[:10]\n",
    "try:\n",
    "    with client.write('/bigdata/sequences_10') as writer:\n",
    "        writer.write(dumps(temp[0]))\n",
    "        for line in temp[1:]:\n",
    "            writer.write('\\n' + dumps(line))\n",
    "    print(\"Datei erfolgreich in HDFS kopiert.\")\n",
    "except Exception as e:\n",
    "    print(\"Fehler beim Kopieren der Datei in HDFS: \", e)"
   ]
  },
  {
   "cell_type": "code",
   "execution_count": 25,
   "id": "8e341e3c-7fc3-4908-b568-a176889529c8",
   "metadata": {},
   "outputs": [
    {
     "name": "stdout",
     "output_type": "stream",
     "text": [
      "Datei erfolgreich in HDFS kopiert.\n"
     ]
    }
   ],
   "source": [
    "from json import loads\n",
    "content = []\n",
    "try:\n",
    "    with client.read('/bigdata/sequences_10', encoding='utf-8' , delimiter='\\n') as reader:\n",
    "        for line in reader:\n",
    "            content.append(loads(line))\n",
    "    print(\"Datei erfolgreich in HDFS kopiert.\")\n",
    "except Exception as e:\n",
    "    print(\"Fehler beim Kopieren der Datei in HDFS: \", e)"
   ]
  },
  {
   "cell_type": "code",
   "execution_count": 26,
   "id": "37691587-4d27-4c71-96d4-537aeaf269dc",
   "metadata": {},
   "outputs": [
    {
     "data": {
      "text/plain": [
       "{'barcode': 'GNGGGTAAGTGTTGAAGGATTTTTATGG',\n",
       " 'attributes': {'instrument': 'A00519',\n",
       "  'run_number': '986',\n",
       "  'flowcell_ID': 'HFFLJDSX2',\n",
       "  'lane': '4',\n",
       "  'tile': '1101',\n",
       "  'x_pos': '15510',\n",
       "  'y_pos': '1016',\n",
       "  'read': '2',\n",
       "  'is_filtered': 'N',\n",
       "  'control number': '0',\n",
       "  'i7_index': 'GAGACGCACG',\n",
       "  'i5_index': 'ATGTTCATAG'},\n",
       " 'sequence': 'AAGCAGTGGTATCAACGCAGAGTACATGGGGCTATGCTGGAGGTTTATATGAAATACAGATAAAGCACACAAAGATTGAGTCTATGACAA',\n",
       " 'quality': 'F:FFF:,,FFF,FFFFFF:,FF:FF:FF,FFF,F,F,F:FFFF:FFF:,,F:F:FFFFFFF:FFFFFFFFF,FF:,:FFFFFF,FF:FF:',\n",
       " 'bc_quality': 'F#F:FFF,:,FF,FF,FFFFFF,F::,:'}"
      ]
     },
     "execution_count": 26,
     "metadata": {},
     "output_type": "execute_result"
    }
   ],
   "source": [
    "content[0]"
   ]
  },
  {
   "cell_type": "code",
   "execution_count": null,
   "id": "28f68d80-cb78-4553-927e-d3aba0dd8bea",
   "metadata": {},
   "outputs": [],
   "source": []
  }
 ],
 "metadata": {
  "kernelspec": {
   "display_name": "Python 3 (ipykernel)",
   "language": "python",
   "name": "python3"
  },
  "language_info": {
   "codemirror_mode": {
    "name": "ipython",
    "version": 3
   },
   "file_extension": ".py",
   "mimetype": "text/x-python",
   "name": "python",
   "nbconvert_exporter": "python",
   "pygments_lexer": "ipython3",
   "version": "3.10.12"
  }
 },
 "nbformat": 4,
 "nbformat_minor": 5
}
